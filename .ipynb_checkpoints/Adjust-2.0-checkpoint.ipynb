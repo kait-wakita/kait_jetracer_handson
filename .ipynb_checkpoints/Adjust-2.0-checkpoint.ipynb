{
 "cells": [
  {
   "cell_type": "markdown",
   "metadata": {},
   "source": [
    "# 基本動作確認\n",
    "Execute the following block of code by selecting it and clicking ``ctrl + enter`` to create an ``NvidiaRacecar`` class.  "
   ]
  },
  {
   "cell_type": "code",
   "execution_count": 1,
   "metadata": {},
   "outputs": [],
   "source": [
    "from jetracer.nvidia_racecar import NvidiaRacecar\n",
    "type = \"TT02\" # \"OPTION\", \"TT02\"\n",
    "car = NvidiaRacecar(type)"
   ]
  },
  {
   "cell_type": "markdown",
   "metadata": {},
   "source": [
    "# 走行テスト（スロットルとステアリングのゲイン調査）"
   ]
  },
  {
   "cell_type": "markdown",
   "metadata": {},
   "source": [
    "走行時Driveで使用するため、スロットルゲイン、スロットル値、操舵ゲイン、操舵オフセットを調べておく\n",
    "\n",
    "（車両によって値が異なるので、スロットル指令値、操舵指令値に応じて車両が適切に動作するようゲインとオフセットを調べる）\n",
    "\n",
    "（値の例：　スロットルゲイン:0.5、操舵ゲイン：-0.65、操舵オフセット：0.15)"
   ]
  },
  {
   "cell_type": "code",
   "execution_count": 3,
   "metadata": {},
   "outputs": [
    {
     "data": {
      "application/vnd.jupyter.widget-view+json": {
       "model_id": "6a7fe4b817174f2b97ec89dd02e9caf7",
       "version_major": 2,
       "version_minor": 0
      },
      "text/plain": [
       "HBox(children=(FloatSlider(value=0.0, description='throttle', max=1.0, min=-1.0, orientation='vertical', step=…"
      ]
     },
     "metadata": {},
     "output_type": "display_data"
    },
    {
     "data": {
      "application/vnd.jupyter.widget-view+json": {
       "model_id": "cae9a31288f74a1496d3e21d77ed403c",
       "version_major": 2,
       "version_minor": 0
      },
      "text/plain": [
       "HBox(children=(FloatSlider(value=0.0, description='steering', max=1.0, min=-1.0, step=0.01), BoundedFloatText(…"
      ]
     },
     "metadata": {},
     "output_type": "display_data"
    }
   ],
   "source": [
    "import ipywidgets.widgets as widgets\n",
    "from IPython.display import display\n",
    "\n",
    "# create two sliders with range [-1.0, 1.0]\n",
    "throttle_slider = widgets.FloatSlider(description='throttle', min=-1.0, max=1.0, step=0.01, orientation='vertical')\n",
    "throttle_gain = widgets.BoundedFloatText(description='th_gain',min=-1.0, max=1.0, step=0.01, value=car.throttle_gain)\n",
    "\n",
    "steering_slider = widgets.FloatSlider(description='steering', min=-1.0, max=1.0, step=0.01, orientation='horizontal')\n",
    "steering_gain = widgets.BoundedFloatText(description='st_gain',min=-1.0, max=1.0, step=0.01, value=car.steering_gain)\n",
    "steering_offset = widgets.BoundedFloatText(description='st_offset',min=-1.0, max=1.0, step=0.01, value=car.steering_offset)\n",
    "\n",
    "# create a horizontal box container to place the sliders next to eachother\n",
    "slider_container = widgets.HBox([throttle_slider, throttle_gain])\n",
    "value_container = widgets.HBox([steering_slider,steering_gain,steering_offset])\n",
    "\n",
    "# display the container in this cell's output\n",
    "display(slider_container)\n",
    "display(value_container)\n",
    "\n",
    "import traitlets\n",
    "\n",
    "throttle_link = traitlets.link((throttle_slider, 'value'), (car, 'throttle'))\n",
    "throttle_gain_link = traitlets.link((throttle_gain, 'value'), (car, 'throttle_gain'))\n",
    "\n",
    "steering_link = traitlets.link((steering_slider, 'value'), (car, 'steering'))\n",
    "steering_gain_link = traitlets.link((steering_gain, 'value'), (car, 'steering_gain'))\n",
    "steering_offset_link = traitlets.link((steering_offset, 'value'), (car, 'steering_offset'))"
   ]
  },
  {
   "cell_type": "markdown",
   "metadata": {},
   "source": [
    "\n",
    "|項目|関数名|意味|\n",
    "|:--|:--|:--|\n",
    "|throttle|car.throttle|スロットル指令値|\n",
    "|th_grain|car.throttle_gain|スロットルゲイン|\n",
    "|steering|car.steering|操舵指令値|\n",
    "|st_gain|car.steering_gain|操舵ゲイン|\n",
    "|st_offset|car.steering_offset|操舵オフセット|\n"
   ]
  },
  {
   "cell_type": "markdown",
   "metadata": {},
   "source": [
    "# カメラ動作確認"
   ]
  },
  {
   "cell_type": "code",
   "execution_count": 4,
   "metadata": {},
   "outputs": [
    {
     "name": "stdout",
     "output_type": "stream",
     "text": [
      "[sudo] password for jetson: "
     ]
    }
   ],
   "source": [
    "!echo jetson | sudo -S systemctl restart nvargus-daemon"
   ]
  },
  {
   "cell_type": "code",
   "execution_count": 5,
   "metadata": {},
   "outputs": [],
   "source": [
    "from jetcam.csi_camera import CSICamera\n",
    "# from jetcam.usb_camera import USBCamera\n",
    "\n",
    "camera = CSICamera(width=224, height=224, capture_fps=10)\n",
    "# camera = USBCamera(width=224, height=224)\n",
    "\n",
    "camera.running = True"
   ]
  },
  {
   "cell_type": "code",
   "execution_count": 6,
   "metadata": {},
   "outputs": [
    {
     "data": {
      "application/vnd.jupyter.widget-view+json": {
       "model_id": "c388769d92b94a2888479df588dc6ff4",
       "version_major": 2,
       "version_minor": 0
      },
      "text/plain": [
       "Image(value=b'\\xff\\xd8\\xff\\xe0\\x00\\x10JFIF\\x00\\x01\\x01\\x00\\x00\\x01\\x00\\x01\\x00\\x00\\xff\\xdb\\x00C\\x00\\x02\\x01\\x0…"
      ]
     },
     "metadata": {},
     "output_type": "display_data"
    }
   ],
   "source": [
    "import ipywidgets\n",
    "import traitlets\n",
    "from jetcam.utils import bgr8_to_jpeg\n",
    "\n",
    "camera.unobserve_all()\n",
    "\n",
    "snapshot_widget = ipywidgets.Image(format='jpeg', width=camera.width, height=camera.height)\n",
    "traitlets.dlink((camera, 'value'), (snapshot_widget, 'value'), transform=bgr8_to_jpeg)\n",
    "display(snapshot_widget)"
   ]
  },
  {
   "cell_type": "markdown",
   "metadata": {},
   "source": [
    "## 次の作業\n",
    "\n",
    "Build.ipynbを実行し、データセットの収集と学習をおこないます"
   ]
  }
 ],
 "metadata": {
  "kernelspec": {
   "display_name": "Python 3",
   "language": "python",
   "name": "python3"
  },
  "language_info": {
   "codemirror_mode": {
    "name": "ipython",
    "version": 3
   },
   "file_extension": ".py",
   "mimetype": "text/x-python",
   "name": "python",
   "nbconvert_exporter": "python",
   "pygments_lexer": "ipython3",
   "version": "3.6.9"
  }
 },
 "nbformat": 4,
 "nbformat_minor": 4
}
