{
 "cells": [
  {
   "cell_type": "markdown",
   "metadata": {},
   "source": [
    "# mp4からの学習データ作成"
   ]
  },
  {
   "cell_type": "markdown",
   "metadata": {},
   "source": [
    "走行動画にラベリングし学習データを作成する、オフライン(windowsPC)でも可"
   ]
  },
  {
   "cell_type": "code",
   "execution_count": null,
   "metadata": {},
   "outputs": [],
   "source": [
    "TASK = 'off001'"
   ]
  },
  {
   "cell_type": "code",
   "execution_count": null,
   "metadata": {},
   "outputs": [],
   "source": [
    "input_video = 'movie/slowdrive.mp4'"
   ]
  },
  {
   "cell_type": "code",
   "execution_count": null,
   "metadata": {},
   "outputs": [],
   "source": [
    "import numpy as np                 # NumPy\n",
    "import cv2                         # openCV\n",
    "import glob                        # Filename pattern matching\n",
    "import matplotlib.pyplot as plt    # 2D plotting\n",
    "import matplotlib.image as mpimg\n",
    "import ipywidgets as widgets\n",
    "from ipywidgets import Textarea,Layout\n",
    "%matplotlib notebook\n",
    "import time\n",
    "import os,subprocess,datetime"
   ]
  },
  {
   "cell_type": "code",
   "execution_count": null,
   "metadata": {},
   "outputs": [],
   "source": [
    "t_delta=datetime.timedelta(hours=9)\n",
    "JST=datetime.timezone(t_delta,'JST')\n",
    "tm=datetime.datetime.now(datetime.timezone(datetime.timedelta(hours=9))).strftime(\"%Y%m%d%H%M%S\")"
   ]
  },
  {
   "cell_type": "code",
   "execution_count": null,
   "metadata": {},
   "outputs": [],
   "source": [
    "video = cv2.VideoCapture(input_video) # 引数がファイルパス\n",
    "\n",
    "width = int(video.get(cv2.CAP_PROP_FRAME_WIDTH)) # 動画の画面横幅\n",
    "height = int(video.get(cv2.CAP_PROP_FRAME_HEIGHT)) # 動画の画面縦幅\n",
    "frame_count = int(video.get(cv2.CAP_PROP_FRAME_COUNT)) # 総フレーム数\n",
    "frame_rate = int(video.get(cv2.CAP_PROP_FPS)) # フレームレート(fps)\n",
    "frame_count = int(video.get(cv2.CAP_PROP_FRAME_COUNT))\n",
    "\n",
    "l = Layout(flex='0 1 auto', height='100px', min_height='100px', width='auto')\n",
    "process_widget = Textarea(description='ログ', value='', layout=l)\n",
    "def write_log(msg):\n",
    "    global process_widget\n",
    "    process_widget.value = msg + \"\\n\" + process_widget.value\n",
    "\n",
    "fig = plt.figure()\n",
    "\n",
    "image = np.zeros((244, 244, 3), np.uint8)\n",
    "iframe = 0\n",
    "\n",
    "def skip_frame_and_show(nframe):\n",
    "    global image, iframe\n",
    "    plt.clf()\n",
    "    for i in range(nframe):\n",
    "        ret,img_tmp = video.read()\n",
    "        iframe = iframe + 1\n",
    "        if not ret:\n",
    "            write_log('end of movie')\n",
    "            return\n",
    "    image = cv2.resize(img_tmp, dsize=(224,224))\n",
    "    img = cv2.cvtColor(image, cv2.COLOR_BGR2RGB)\n",
    "    img = cv2.line(img,(112,0),(112,224),(255,255,255),3)\n",
    "    img = cv2.line(img,( 77,0),( 77,224),(255,255,255),1)\n",
    "    img = cv2.line(img,( 42,0),( 42,224),(255,255,255),1)\n",
    "    img = cv2.line(img,(147,0),(147,224),(255,255,255),1)\n",
    "    img = cv2.line(img,(182,0),(182,224),(255,255,255),1)\n",
    "    img = cv2.line(img,(0, 75),(224, 75),(255,255,255),1)\n",
    "    img = cv2.line(img,(0,112),(224,112),(255,255,255),1)\n",
    "    img = cv2.line(img,(0,150),(224,150),(255,255,255),1)\n",
    "    plt.imshow(img)\n",
    "    plt.title(input_video + '  %d:%02d' % (iframe//frame_rate, iframe%frame_rate))\n",
    "    plt.show()\n",
    "    #write_log('advanced %d frames' % nframe)\n",
    "\n",
    "skip_frame_and_show(1)\n",
    "    \n",
    "button01 = widgets.Button(description='+1')\n",
    "def on_click_01(clicked_button: widgets.Button) -> None:\n",
    "         skip_frame_and_show(1)\n",
    "button01.on_click(on_click_01)\n",
    "\n",
    "button15 = widgets.Button(description='+15')\n",
    "def on_click_15(clicked_button: widgets.Button) -> None:\n",
    "         skip_frame_and_show(15)\n",
    "button15.on_click(on_click_15)\n",
    "\n",
    "button30 = widgets.Button(description='+30')\n",
    "def on_click_30(clicked_button: widgets.Button) -> None:\n",
    "         skip_frame_and_show(30)\n",
    "button30.on_click(on_click_30)\n",
    "\n",
    "\n",
    "txt = Textarea(\n",
    "    value='',\n",
    "    placeholder='data',\n",
    "    description='event:',\n",
    "    disabled=False,\n",
    "    layout=Layout(width='50%', height='40px'))\n",
    "\n",
    "category_path = 'data/'+TASK+'_A/apex/'\n",
    "if not os.path.exists(category_path):\n",
    "    os.makedirs(category_path)\n",
    "        \n",
    "def onclick_img(event):\n",
    "    x,y=int(event.xdata), int(event.ydata)\n",
    "    plt.plot(event.xdata, event.ydata,'bo',markersize=20)\n",
    "    filename = '%03d_%03d_%s.jpg' % (x, y, tm) \n",
    "    image_path = category_path + filename\n",
    "    cv2.imwrite(image_path, image)\n",
    "    write_log('saved to %s' % (image_path))\n",
    "    #skip_frame_and_show(1)\n",
    "    \n",
    "       \n",
    "control_collection_widget = widgets.HBox([button01,button15, button30])\n",
    "display(control_collection_widget)\n",
    "\n",
    "display(process_widget)\n",
    "\n",
    "ka = fig.canvas.mpl_connect('button_press_event', onclick_img)"
   ]
  }
 ],
 "metadata": {
  "kernelspec": {
   "display_name": "Python 3",
   "language": "python",
   "name": "python3"
  },
  "language_info": {
   "codemirror_mode": {
    "name": "ipython",
    "version": 3
   },
   "file_extension": ".py",
   "mimetype": "text/x-python",
   "name": "python",
   "nbconvert_exporter": "python",
   "pygments_lexer": "ipython3",
   "version": "3.6.9"
  }
 },
 "nbformat": 4,
 "nbformat_minor": 5
}
