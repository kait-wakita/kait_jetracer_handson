{
 "cells": [
  {
   "cell_type": "markdown",
   "metadata": {},
   "source": [
    "# 基本動作確認\n",
    "Execute the following block of code by selecting it and clicking ``ctrl + enter`` to create an ``NvidiaRacecar`` class.  "
   ]
  },
  {
   "cell_type": "code",
   "execution_count": 2,
   "metadata": {},
   "outputs": [],
   "source": [
    "from jetracer.nvidia_racecar import NvidiaRacecar\n",
    "type = \"TT02\" # \"OPTION\", \"TT02\"\n",
    "car = NvidiaRacecar(type)"
   ]
  },
  {
   "cell_type": "code",
   "execution_count": 3,
   "metadata": {},
   "outputs": [
    {
     "data": {
      "application/vnd.jupyter.widget-view+json": {
       "model_id": "4b11809df8d54dffb68a94da98615997",
       "version_major": 2,
       "version_minor": 0
      },
      "text/plain": [
       "HBox(children=(FloatSlider(value=0.0, description='throttle', max=1.0, min=-1.0, orientation='vertical', step=…"
      ]
     },
     "metadata": {},
     "output_type": "display_data"
    },
    {
     "data": {
      "application/vnd.jupyter.widget-view+json": {
       "model_id": "bf719899b0ef4a1b92b359a3169fb977",
       "version_major": 2,
       "version_minor": 0
      },
      "text/plain": [
       "HBox(children=(FloatSlider(value=0.0, description='steering', max=1.0, min=-1.0, step=0.01), BoundedFloatText(…"
      ]
     },
     "metadata": {},
     "output_type": "display_data"
    }
   ],
   "source": [
    "import ipywidgets.widgets as widgets\n",
    "from IPython.display import display\n",
    "\n",
    "# create two sliders with range [-1.0, 1.0]\n",
    "throttle_slider = widgets.FloatSlider(description='throttle', min=-1.0, max=1.0, step=0.01, orientation='vertical')\n",
    "steering_slider = widgets.FloatSlider(description='steering', min=-1.0, max=1.0, step=0.01, orientation='horizontal')\n",
    "steering_gain = widgets.BoundedFloatText(description='st_gain',min=-1.0, max=1.0, step=0.01, value=car.steering_gain)\n",
    "steering_offset = widgets.BoundedFloatText(description='st_offset',min=-1.0, max=1.0, step=0.01, value=car.steering_offset)\n",
    "throttle_gain = widgets.BoundedFloatText(description='th_gain',min=-1.0, max=1.0, step=0.01, value=car.throttle_gain)\n",
    "\n",
    "# create a horizontal box container to place the sliders next to eachother\n",
    "slider_container = widgets.HBox([throttle_slider, throttle_gain])\n",
    "value_container = widgets.HBox([steering_slider,steering_gain,steering_offset])\n",
    "\n",
    "# display the container in this cell's output\n",
    "display(slider_container)\n",
    "display(value_container)\n",
    "\n",
    "import traitlets\n",
    "\n",
    "throttle_link = traitlets.link((throttle_slider, 'value'), (car, 'throttle'))\n",
    "steering_link = traitlets.link((steering_slider, 'value'), (car, 'steering'))\n",
    "steering_gain_link = traitlets.link((steering_gain, 'value'), (car, 'steering_gain'))\n",
    "throttle_gain_link = traitlets.link((throttle_gain, 'value'), (car, 'throttle_gain'))\n",
    "steering_offset_link = traitlets.link((steering_offset, 'value'), (car, 'steering_offset'))"
   ]
  },
  {
   "cell_type": "markdown",
   "metadata": {},
   "source": [
    "\n",
    "|項目|関数名|意味|\n",
    "|:--|:--|:--|\n",
    "|throttle|car.throttle|タイヤの前後のパワー|\n",
    "|th_grain|car.throttle_gain|タイヤの前後のパワーの比率|\n",
    "|steering|car.steering|ハンドルの角度|\n",
    "|st_gain|car.steering_gain|ハンドルの角度|\n",
    "|st_offset|car.steering_offset|ハンドルのオフセット|\n"
   ]
  },
  {
   "cell_type": "markdown",
   "metadata": {},
   "source": [
    "## 次の作業\n",
    "\n",
    "interactive_regression.ipynbを実行し、データセットの収集と学習をおこないます"
   ]
  },
  {
   "cell_type": "code",
   "execution_count": null,
   "metadata": {},
   "outputs": [],
   "source": []
  }
 ],
 "metadata": {
  "kernelspec": {
   "display_name": "Python 3",
   "language": "python",
   "name": "python3"
  },
  "language_info": {
   "codemirror_mode": {
    "name": "ipython",
    "version": 3
   },
   "file_extension": ".py",
   "mimetype": "text/x-python",
   "name": "python",
   "nbconvert_exporter": "python",
   "pygments_lexer": "ipython3",
   "version": "3.6.9"
  }
 },
 "nbformat": 4,
 "nbformat_minor": 4
}
