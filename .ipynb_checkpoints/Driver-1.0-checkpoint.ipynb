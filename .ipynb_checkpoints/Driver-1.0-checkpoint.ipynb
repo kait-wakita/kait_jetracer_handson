{
 "cells": [
  {
   "cell_type": "markdown",
   "metadata": {},
   "source": [
    "# 走行 (kait版 B01用)"
   ]
  },
  {
   "cell_type": "code",
   "execution_count": 1,
   "metadata": {},
   "outputs": [],
   "source": [
    "TASK = 'handson01'"
   ]
  },
  {
   "cell_type": "markdown",
   "metadata": {},
   "source": [
    "Tensor RTに変換された学習済みモデルをつかって自動走行します。"
   ]
  },
  {
   "cell_type": "code",
   "execution_count": 2,
   "metadata": {},
   "outputs": [],
   "source": [
    "import torch\n",
    "import torchvision\n",
    "\n",
    "CATEGORIES = ['apex']\n",
    "\n",
    "device = torch.device('cuda')\n",
    "model = torchvision.models.resnet18(pretrained=False)\n",
    "model.fc = torch.nn.Linear(512, 2 * len(CATEGORIES))\n",
    "model = model.cuda().eval().half()"
   ]
  },
  {
   "cell_type": "markdown",
   "metadata": {},
   "source": [
    "Tensor RT形式のモデルを読み込む。"
   ]
  },
  {
   "cell_type": "code",
   "execution_count": 3,
   "metadata": {},
   "outputs": [
    {
     "data": {
      "text/plain": [
       "<All keys matched successfully>"
      ]
     },
     "execution_count": 3,
     "metadata": {},
     "output_type": "execute_result"
    }
   ],
   "source": [
    "import torch\n",
    "from torch2trt import TRTModule\n",
    "\n",
    "model_trt = TRTModule()\n",
    "model_trt.load_state_dict(torch.load(TASK+'_model_trt.pth'))"
   ]
  },
  {
   "cell_type": "markdown",
   "metadata": {},
   "source": [
    "racecarクラスをインスタンス化する"
   ]
  },
  {
   "cell_type": "code",
   "execution_count": 4,
   "metadata": {},
   "outputs": [],
   "source": [
    "from jetracer.nvidia_racecar import NvidiaRacecar\n",
    "type = \"TT02\"\n",
    "car = NvidiaRacecar(type)"
   ]
  },
  {
   "cell_type": "markdown",
   "metadata": {},
   "source": [
    "カメラの起動のためにカメラを制御するnvargus-daemonの再起動。"
   ]
  },
  {
   "cell_type": "code",
   "execution_count": 5,
   "metadata": {},
   "outputs": [
    {
     "name": "stdout",
     "output_type": "stream",
     "text": [
      "[sudo] password for jetson: "
     ]
    }
   ],
   "source": [
    "!echo jetson | sudo -S systemctl restart nvargus-daemon"
   ]
  },
  {
   "cell_type": "markdown",
   "metadata": {},
   "source": [
    "カメラクラスをインスタンス化する。"
   ]
  },
  {
   "cell_type": "code",
   "execution_count": 6,
   "metadata": {},
   "outputs": [],
   "source": [
    "from jetcam.csi_camera import CSICamera\n",
    "\n",
    "camera = CSICamera(width=224, height=224, capture_fps=40)"
   ]
  },
  {
   "cell_type": "markdown",
   "metadata": {},
   "source": [
    "最後に、JetRacerを下に置き、下記セルを実行します。\n",
    "\n",
    "* 車の左右にうまく回らない場合は、`STEERING_GAIN` を小さいくする\n",
    "* ターンがうまくいかない場合は、`STEERING_GAIN`を大きくする\n",
    "* 車が左に傾く場合は、`STEERING_BIAS`を値を-0.05ぐらいづつマイナスにする\n",
    "* 車が右に傾く場合は、`STEERING_BIAS`を値を+0.05ぐらいづつプラスにする\n",
    "\n",
    "|値|意味|\n",
    "|:--|:--|\n",
    "|st_gain|ハンドルの曲がる比率を調整(推論開始ボタンを押したタイミングで反映)|\n",
    "|st_offset|ハンドルの初期位置を調整(推論開始ボタンを押したタイミングで反映)|"
   ]
  },
  {
   "cell_type": "code",
   "execution_count": 7,
   "metadata": {},
   "outputs": [
    {
     "data": {
      "application/vnd.jupyter.widget-view+json": {
       "model_id": "8f8813b2f664489ba4fbf3ba37bae46b",
       "version_major": 2,
       "version_minor": 0
      },
      "text/plain": [
       "VBox(children=(HBox(children=(FloatSlider(value=0.31, description='throttle', max=1.0, min=-1.0, orientation='…"
      ]
     },
     "metadata": {},
     "output_type": "display_data"
    }
   ],
   "source": [
    "import ipywidgets.widgets as widgets\n",
    "from IPython.display import display\n",
    "from utils import preprocess\n",
    "import numpy as np\n",
    "import threading\n",
    "import traitlets\n",
    "import time\n",
    "\n",
    "throttle_slider = widgets.FloatSlider(description='throttle', min=-1.0, max=1.0, step=0.01, value=0.31, orientation='vertical')\n",
    "steering_gain = widgets.BoundedFloatText(description='st_gain',min=-1.0, max=1.0, step=0.01, value=-0.65)\n",
    "steering_offset = widgets.BoundedFloatText(description='st_offset',min=-1.0, max=1.0, step=0.01, value=0.13)\n",
    "check_button = widgets.Button(description='ハンドルのチェック')\n",
    "run_button = widgets.Button(description='推論開始')\n",
    "stop_button = widgets.Button(description='推論停止')\n",
    "log_widget = widgets.Textarea(description='ログ')\n",
    "result_widget = widgets.FloatText(description='推論から導いたXの値')\n",
    "\n",
    "def live():\n",
    "    global running, count\n",
    "    log_widget.value = \"live\"\n",
    "    count = 0\n",
    "    while running:\n",
    "        count = count + 1\n",
    "        log_widget.value = str(count) + \"回目の推論\"\n",
    "        image = camera.read()\n",
    "        image = preprocess(image).half()\n",
    "        output = model_trt(image).detach().cpu().numpy().flatten()\n",
    "        x = float(output[0])\n",
    "        steering_value = x * car.steering_gain + car.steering_offset\n",
    "        result_widget.value = steering_value\n",
    "        car.steering = steering_value\n",
    "        \n",
    "def run(c):\n",
    "    global running, execute_thread, start_time\n",
    "    log_widget.value = \"run\"\n",
    "    running = True\n",
    "    execute_thread = threading.Thread(target=live)\n",
    "    execute_thread.start()\n",
    "    start_time = time.time()\n",
    "\n",
    "def stop(c):\n",
    "    global running, execute_thread, start_time, count\n",
    "    end_time = time.time() - start_time\n",
    "    fps = count/int(end_time)\n",
    "    log_widget.value = \"FPS: \" + str(fps) + \"(1秒あたりの推論実行回数)\"\n",
    "    running = False\n",
    "    execute_thread.stop()\n",
    "    \n",
    "def check(c):\n",
    "    global running, execute_thread, start_time, count\n",
    "    end_time = time.time() - start_time\n",
    "    fps = count/int(end_time)\n",
    "    log_widget.value = \"チェック用に推論を停止します。FPS: \" + str(fps) + \"(1秒あたりの推論実行回数)\"\n",
    "    running = False\n",
    "    count = 0\n",
    "    log_widget.value = \"car.steering:1\"\n",
    "    car.steering = 1\n",
    "    time.sleep(1)\n",
    "    car.steering = -1\n",
    "    time.sleep(1)\n",
    "    car.steering = 0\n",
    "    \n",
    "run_button.on_click(run)\n",
    "stop_button.on_click(stop)\n",
    "check_button.on_click(check)\n",
    "\n",
    "# create a horizontal box container to place the sliders next to eachother\n",
    "run_widget = widgets.VBox([\n",
    "    widgets.HBox([throttle_slider, steering_gain,steering_offset,check_button]),\n",
    "    widgets.HBox([run_button, stop_button]),\n",
    "    result_widget,\n",
    "    log_widget\n",
    "])\n",
    "throttle_link = traitlets.link((throttle_slider, 'value'), (car, 'throttle'))\n",
    "steering_gain_link = traitlets.link((steering_gain, 'value'), (car, 'steering_gain'))\n",
    "steering_offset_link = traitlets.link((steering_offset, 'value'), (car, 'steering_offset'))\n",
    "\n",
    "# display the container in this cell's output\n",
    "display(run_widget)"
   ]
  },
  {
   "cell_type": "code",
   "execution_count": null,
   "metadata": {},
   "outputs": [],
   "source": []
  },
  {
   "cell_type": "code",
   "execution_count": null,
   "metadata": {},
   "outputs": [],
   "source": []
  }
 ],
 "metadata": {
  "kernelspec": {
   "display_name": "Python 3",
   "language": "python",
   "name": "python3"
  },
  "language_info": {
   "codemirror_mode": {
    "name": "ipython",
    "version": 3
   },
   "file_extension": ".py",
   "mimetype": "text/x-python",
   "name": "python",
   "nbconvert_exporter": "python",
   "pygments_lexer": "ipython3",
   "version": "3.6.9"
  }
 },
 "nbformat": 4,
 "nbformat_minor": 4
}
