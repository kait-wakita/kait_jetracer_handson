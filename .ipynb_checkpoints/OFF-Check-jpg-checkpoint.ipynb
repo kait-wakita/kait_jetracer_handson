{
 "cells": [
  {
   "cell_type": "markdown",
   "metadata": {},
   "source": [
    "# 学習状況のチェック (jpeg)"
   ]
  },
  {
   "cell_type": "markdown",
   "metadata": {},
   "source": [
    "学習に用いたjpgデータを用いて、推論の結果を表示する"
   ]
  },
  {
   "cell_type": "code",
   "execution_count": null,
   "metadata": {},
   "outputs": [],
   "source": [
    "TASK = 'off001'"
   ]
  },
  {
   "cell_type": "code",
   "execution_count": null,
   "metadata": {},
   "outputs": [],
   "source": [
    "import torch\n",
    "import torchvision\n",
    "\n",
    "MODEL = TASK+\"_model.pth\"\n",
    "\n",
    "if torch.cuda.is_available():\n",
    "    DEVICE = 'cuda'\n",
    "else:\n",
    "    DEVICE = 'cpu'\n",
    "\n",
    "device = torch.device(DEVICE)\n",
    "output_dim = 2\n",
    "\n",
    "model = torchvision.models.resnet18(pretrained=True)\n",
    "model.fc = torch.nn.Linear(512, output_dim)\n",
    "\n",
    "model = model.to(device)\n",
    "model.load_state_dict(torch.load('data/'+TASK+'_A/'+MODEL))"
   ]
  },
  {
   "cell_type": "code",
   "execution_count": null,
   "metadata": {},
   "outputs": [],
   "source": [
    "import torch\n",
    "import torchvision.transforms as transforms\n",
    "import torch.nn.functional as F\n",
    "import cv2\n",
    "import PIL.Image\n",
    "import numpy as np\n",
    "\n",
    "if DEVICE== 'cuda':\n",
    "    mean = torch.Tensor([0.485, 0.456, 0.406]).cuda()\n",
    "    std = torch.Tensor([0.229, 0.224, 0.225]).cuda()\n",
    "else:\n",
    "    mean = torch.Tensor([0.485, 0.456, 0.406]).cpu()\n",
    "    std = torch.Tensor([0.229, 0.224, 0.225]).cpu()   \n",
    "\n",
    "def preprocess(image):\n",
    "    device = torch.device(DEVICE)\n",
    "    image = PIL.Image.fromarray(image)\n",
    "    image = transforms.functional.to_tensor(image).to(device)\n",
    "    image.sub_(mean[:, None, None]).div_(std[:, None, None])\n",
    "    return image[None, ...]"
   ]
  },
  {
   "cell_type": "code",
   "execution_count": null,
   "metadata": {},
   "outputs": [],
   "source": [
    "import os\n",
    "import glob\n",
    "import matplotlib.pyplot as plt\n",
    "import matplotlib.image as mpimg\n",
    "import matplotlib.patches as patches\n",
    "import re\n",
    "\n",
    "DIR = \"data/\"\n",
    "APEX = \"apex\"\n",
    "CATEGORY = \"A\"\n",
    "\n",
    "IMG_WIDTH = 224\n",
    "IMG_HEIGHT = 224\n",
    "\n",
    "# 読み込みを始める最初の数\n",
    "start_pos = 0\n",
    "\n",
    "path = DIR + TASK + \"_\" + CATEGORY + \"/\" + APEX\n",
    "filenames = os.listdir(path)\n",
    "#path = DIR + TASK + \"_\" + CATEGORY + \"/\" + APEX + '/*.jpg'\n",
    "#filenames = glob.glob(path)\n",
    "\n",
    "WIDTH = 8\n",
    "HEIGHT = len(filenames) // WIDTH + 1"
   ]
  },
  {
   "cell_type": "code",
   "execution_count": null,
   "metadata": {},
   "outputs": [],
   "source": [
    "#plt.figure(figsize=(IMG_WIDTH/10, IMG_HEIGHT/10), dpi=100)\n",
    "plt.figure(figsize=(IMG_WIDTH/HEIGHT, IMG_HEIGHT/WIDTH), dpi=100)\n",
    "\n",
    "for i, name in enumerate(sorted(filenames)):\n",
    "    if i >= start_pos:\n",
    "        if i >= WIDTH * HEIGHT + start_pos:\n",
    "            break\n",
    "        pattern = '(\\d+)_(\\d+).*'\n",
    "        result = re.match(pattern, name)\n",
    "        \n",
    "        \n",
    "        if result:\n",
    "            x = result.group(1)\n",
    "            y = result.group(2)\n",
    "        \n",
    "        img = mpimg.imread(path + \"/\" + name)\n",
    "        \n",
    "        preprocessed = preprocess(img)\n",
    "        output = model(preprocessed).detach().cpu().numpy().flatten()\n",
    "        result_x = output[0]\n",
    "        result_y = output[1]\n",
    "        result_x = int(IMG_WIDTH * (result_x / 2.0 + 0.5))\n",
    "        result_y = int(IMG_HEIGHT * (result_y / 2.0 + 0.5))\n",
    "        #print(result_x,result_y)\n",
    "        \n",
    "        plt.subplot(HEIGHT,WIDTH,(i-start_pos)+1)\n",
    "        plt.tick_params(labelbottom=False,labelleft=False)\n",
    "        plt.tick_params(bottom=False,left=False,right=False,top=False)\n",
    "        ax = plt.gca() # get current axis\n",
    "        \n",
    "        ax.spines[\"right\"].set_color(\"none\") \n",
    "        ax.spines[\"left\"].set_color(\"none\") \n",
    "        ax.spines[\"top\"].set_color(\"none\")  \n",
    "        ax.spines[\"bottom\"].set_color(\"none\") \n",
    "        c = patches.Circle(xy=(int(x), int(y)), linewidth=5, radius=20, ec='b',fill=False)\n",
    "        r = patches.Circle(xy=(int(result_x), int(result_y)), linewidth=5, radius=20, ec='r',fill=False)\n",
    "        ax.add_patch(c)\n",
    "        ax.add_patch(r)\n",
    "        \n",
    "        if i == 0:\n",
    "            ax.text(120,190, \"labeled\", color=\"#0000ff\",fontfamily=\"serif\",fontsize=32)\n",
    "            ax.text(120,210, \"predicted\", color=\"#ff0000\",fontfamily=\"serif\",fontsize=32)\n",
    "        \n",
    "        plt.title(name[0:9],fontsize=24)\n",
    "        plt.imshow(img)"
   ]
  },
  {
   "cell_type": "code",
   "execution_count": null,
   "metadata": {},
   "outputs": [],
   "source": []
  }
 ],
 "metadata": {
  "kernelspec": {
   "display_name": "Python 3",
   "language": "python",
   "name": "python3"
  },
  "language_info": {
   "codemirror_mode": {
    "name": "ipython",
    "version": 3
   },
   "file_extension": ".py",
   "mimetype": "text/x-python",
   "name": "python",
   "nbconvert_exporter": "python",
   "pygments_lexer": "ipython3",
   "version": "3.6.9"
  }
 },
 "nbformat": 4,
 "nbformat_minor": 4
}
