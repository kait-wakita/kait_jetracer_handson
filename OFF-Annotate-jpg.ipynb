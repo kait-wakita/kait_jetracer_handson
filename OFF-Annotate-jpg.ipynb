{
 "cells": [
  {
   "cell_type": "markdown",
   "metadata": {},
   "source": [
    "# 学習データの再作成 (jpeg)"
   ]
  },
  {
   "cell_type": "markdown",
   "metadata": {},
   "source": [
    "他のTASKで収集/作成したjpgデータを用いて、再度目標点のラベリングを行い、新たな学習データを作る"
   ]
  },
  {
   "cell_type": "code",
   "execution_count": null,
   "metadata": {},
   "outputs": [],
   "source": [
    "TASK = 'off002'      # 新たなjpegファイルを作成するTASK名"
   ]
  },
  {
   "cell_type": "code",
   "execution_count": null,
   "metadata": {},
   "outputs": [],
   "source": [
    "TASK_ORG = 'off001'      # 元になるjpegファイルの存在するTASK名"
   ]
  },
  {
   "cell_type": "code",
   "execution_count": null,
   "metadata": {},
   "outputs": [],
   "source": [
    "import os\n",
    "import datetime\n",
    "import glob\n",
    "import matplotlib.pyplot as plt\n",
    "import matplotlib.image as mpimg\n",
    "import matplotlib.patches as patches\n",
    "import ipywidgets as widgets\n",
    "from ipywidgets import Textarea,Layout\n",
    "%matplotlib notebook\n",
    "import re\n",
    "import numpy as np                 # NumPy\n",
    "import cv2\n",
    "\n",
    "IMG_WIDTH = 224\n",
    "IMG_HEIGHT = 224\n",
    "\n",
    "org_path = 'data/' + TASK_ORG + \"_A/apex\"\n",
    "\n",
    "fname_list = os.listdir(org_path)\n",
    "#print(fname_list)"
   ]
  },
  {
   "cell_type": "code",
   "execution_count": null,
   "metadata": {},
   "outputs": [],
   "source": [
    "t_delta=datetime.timedelta(hours=9)\n",
    "JST=datetime.timezone(t_delta,'JST')\n",
    "tm=datetime.datetime.now(datetime.timezone(datetime.timedelta(hours=9))).strftime(\"%Y%m%d%H%M%S\")"
   ]
  },
  {
   "cell_type": "code",
   "execution_count": null,
   "metadata": {},
   "outputs": [],
   "source": [
    "fig = plt.figure()\n",
    "l = Layout(flex='0 1 auto', height='100px', min_height='100px', width='auto')\n",
    "process_widget = Textarea(description='ログ', value='', layout=l)\n",
    "def write_log(msg):\n",
    "    global process_widget\n",
    "    process_widget.value = msg + \"\\n\" + process_widget.value\n",
    "\n",
    "\n",
    "image = np.zeros((244, 244, 3), np.uint8)\n",
    "\n",
    "def skip_frame_and_show(nframe):\n",
    "    global image\n",
    "    plt.clf()\n",
    "    if len(fname_list) < nframe:\n",
    "        write_log('end of files')\n",
    "        return\n",
    "    for i in range(nframe):\n",
    "        fn = fname_list.pop(1)\n",
    "        img_tmp = cv2.imread('data/' + TASK_ORG + \"_A/apex/\"+fn)\n",
    "        if img_tmp is None:\n",
    "            write_log('cannot read jpg file %s' % fn)\n",
    "            return\n",
    "    image = cv2.resize(img_tmp, dsize=(224,224))\n",
    "    img = cv2.cvtColor(image, cv2.COLOR_BGR2RGB)\n",
    "    img = cv2.line(img,(112,0),(112,224),(255,255,255),3)\n",
    "    img = cv2.line(img,( 77,0),( 77,224),(255,255,255),1)\n",
    "    img = cv2.line(img,( 42,0),( 42,224),(255,255,255),1)\n",
    "    img = cv2.line(img,(147,0),(147,224),(255,255,255),1)\n",
    "    img = cv2.line(img,(182,0),(182,224),(255,255,255),1)\n",
    "    img = cv2.line(img,(0, 75),(224, 75),(255,255,255),1)\n",
    "    img = cv2.line(img,(0,112),(224,112),(255,255,255),1)\n",
    "    img = cv2.line(img,(0,150),(224,150),(255,255,255),1)\n",
    "    plt.imshow(img)\n",
    "    plt.title(fn)\n",
    "    plt.show()\n",
    "    #write_log('advanced %d frames' % nframe)\n",
    "\n",
    "skip_frame_and_show(1)\n",
    "    \n",
    "button01 = widgets.Button(description='+1')\n",
    "def on_click_01(clicked_button: widgets.Button) -> None:\n",
    "         skip_frame_and_show(1)\n",
    "button01.on_click(on_click_01)\n",
    "\n",
    "button10 = widgets.Button(description='+10')\n",
    "def on_click_10(clicked_button: widgets.Button) -> None:\n",
    "         skip_frame_and_show(10)\n",
    "button10.on_click(on_click_10)\n",
    "\n",
    "button30 = widgets.Button(description='+30')\n",
    "def on_click_30(clicked_button: widgets.Button) -> None:\n",
    "         skip_frame_and_show(30)\n",
    "button30.on_click(on_click_30)\n",
    "\n",
    "txt = Textarea(\n",
    "    value='',\n",
    "    placeholder='data',\n",
    "    description='event:',\n",
    "    disabled=False,\n",
    "    layout=Layout(width='50%', height='40px'))\n",
    "\n",
    "category_path = 'data/'+TASK+'_A/apex/'\n",
    "if not os.path.exists(category_path):\n",
    "    os.makedirs(category_path)\n",
    "        \n",
    "def onclick_img(event):\n",
    "    x,y=int(event.xdata), int(event.ydata)\n",
    "    plt.plot(event.xdata, event.ydata,'bo',markersize=20)\n",
    "    filename = '%03d_%03d_%s.jpg' % (x, y, tm) \n",
    "    image_path = category_path + filename\n",
    "    cv2.imwrite(image_path, image)\n",
    "    write_log('saved to %s' % (image_path))\n",
    "    #skip_frame_and_show(1)\n",
    "    \n",
    "       \n",
    "control_collection_widget = widgets.HBox([button01,button10, button30])\n",
    "display(control_collection_widget)\n",
    "\n",
    "display(process_widget)\n",
    "\n",
    "ka = fig.canvas.mpl_connect('button_press_event', onclick_img)"
   ]
  },
  {
   "cell_type": "code",
   "execution_count": null,
   "metadata": {},
   "outputs": [],
   "source": []
  }
 ],
 "metadata": {
  "kernelspec": {
   "display_name": "Python 3",
   "language": "python",
   "name": "python3"
  },
  "language_info": {
   "codemirror_mode": {
    "name": "ipython",
    "version": 3
   },
   "file_extension": ".py",
   "mimetype": "text/x-python",
   "name": "python",
   "nbconvert_exporter": "python",
   "pygments_lexer": "ipython3",
   "version": "3.6.9"
  }
 },
 "nbformat": 4,
 "nbformat_minor": 4
}
